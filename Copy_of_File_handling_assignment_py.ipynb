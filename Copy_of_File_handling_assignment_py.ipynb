{
  "nbformat": 4,
  "nbformat_minor": 0,
  "metadata": {
    "colab": {
      "provenance": [],
      "include_colab_link": true
    },
    "kernelspec": {
      "name": "python3",
      "display_name": "Python 3"
    },
    "language_info": {
      "name": "python"
    }
  },
  "cells": [
    {
      "cell_type": "markdown",
      "metadata": {
        "id": "view-in-github",
        "colab_type": "text"
      },
      "source": [
        "<a href=\"https://colab.research.google.com/github/Samara-123456/assignment2/blob/main/Copy_of_File_handling_assignment_py.ipynb\" target=\"_parent\"><img src=\"https://colab.research.google.com/assets/colab-badge.svg\" alt=\"Open In Colab\"/></a>"
      ]
    },
    {
      "cell_type": "code",
      "source": [
        "#Task 1: Basic File Operations\n",
        "#1.\tRead and Display Contents: Write a Python script to open a file named data.txt and display its contents. Handle the scenario where the file does not exist.\n",
        "file_name = \"data.txt\" #here assigning the file name and declaring in file as samara first file creation!.\n",
        "try:\n",
        "    with open(file_name, 'r') as file: #opening the file\n",
        "        inputdata= file.read() #reading the file and the contents in the file data.txt is assigned\n",
        "        print(f\"Contents of {file_name}:\\t{inputdata}\") #printing the contents of the file named data_txt.\n",
        "except Exception as error:\n",
        "    print(f\" it is an error:\")\n"
      ],
      "metadata": {
        "colab": {
          "base_uri": "https://localhost:8080/"
        },
        "id": "_96pfshBDtV6",
        "outputId": "9854d1ff-4e04-4643-c90a-521daae75c66"
      },
      "execution_count": null,
      "outputs": [
        {
          "output_type": "stream",
          "name": "stdout",
          "text": [
            "Contents of data.txt:\tsamara first file handling!\n"
          ]
        }
      ]
    },
    {
      "cell_type": "code",
      "source": [
        "#Task-1\n",
        "#2.\tWrite to a File: Create a new file named output.txt and write the following text: “Python File Handling is powerful!”\n",
        "file_name = \"output.txt\" #new file name declared\n",
        "text = \"Python File Handling is powerful!\" #writing the given text\n",
        "\n",
        "try:\n",
        "    with open(file_name, 'w') as file:#opening the file for writing\n",
        "        file.write(text)\n",
        "    print(f\"Python file handling is powerful!\")\n",
        "except Exception as error:\n",
        "    print(f\"it is an error:\")\n"
      ],
      "metadata": {
        "colab": {
          "base_uri": "https://localhost:8080/"
        },
        "id": "HDP7pwbqEfvj",
        "outputId": "6360855f-a733-4ecc-bf50-de040c81a60d"
      },
      "execution_count": null,
      "outputs": [
        {
          "output_type": "stream",
          "name": "stdout",
          "text": [
            "Python file handling is powerful!\n"
          ]
        }
      ]
    },
    {
      "cell_type": "code",
      "source": [
        "#Task 2: File Modes and Manipulation\n",
        "#1.\tAppend Data: Append the following sentence to the file output.txt: “Appending new information.”\n",
        "with open('output.txt', 'a') as file:\n",
        "    file.write(\"\\nAppending a new information.\") #appending the information to a file named output.txt\n",
        "file_name = \"output.txt\" #here assigning the file name .\n",
        "try:\n",
        "    with open(file_name, 'r') as file: #opening the file\n",
        "        inputdata= file.read() #reading the file and the contents in the file output.txt is assigned\n",
        "        print(f\"Contents of {file_name}:\\t{inputdata}\") #printing the contents of the file named output.txt.\n",
        "except Exception as error:\n",
        "    print(f\" it is an error:\")\n"
      ],
      "metadata": {
        "colab": {
          "base_uri": "https://localhost:8080/"
        },
        "id": "T8SKJTDTNPTJ",
        "outputId": "84c6477e-e581-4f36-f37d-9bca28b3363e"
      },
      "execution_count": null,
      "outputs": [
        {
          "output_type": "stream",
          "name": "stdout",
          "text": [
            "Contents of output.txt:\t\n",
            "Appending a new information.\n",
            "Appending a new information.\n",
            "Appending a new information.\n"
          ]
        }
      ]
    },
    {
      "cell_type": "code",
      "source": [
        "#Task-2\n",
        "#2.\tRead and Write: Open data.txt in a mode that allows you to read its content and add a new line at the end: “This is a new line.”\n",
        "with open('data.txt', 'w') as file:\n",
        "    file.write(\"this is new line!\")\n",
        "file_name = \"data.txt\" #here assigning the file name and declaring in file as samara first file creation!.\n",
        "try:\n",
        "    with open(file_name, 'r') as file: #opening the file\n",
        "        inputdata= file.read() #reading the file and the contents in the file data.txt is assigned\n",
        "        print(f\"Contents of {file_name}:\\t{inputdata}\") #printing the contents of the file named data_txt.\n",
        "except Exception as error:\n",
        "    print(f\" it is an error:\")\n",
        "\n"
      ],
      "metadata": {
        "colab": {
          "base_uri": "https://localhost:8080/"
        },
        "id": "nECDUJvFRS10",
        "outputId": "74c91915-6fc8-46e8-cb72-f0f7fd54e0e2"
      },
      "execution_count": null,
      "outputs": [
        {
          "output_type": "stream",
          "name": "stdout",
          "text": [
            "Contents of data.txt:\tthis is new line!\n"
          ]
        }
      ]
    },
    {
      "cell_type": "code",
      "source": [
        "#task-4\n",
        "#removing the task-1 file .\n",
        "file_name = \"data.txt\" #here assigning the file .\n",
        "try:\n",
        "    with open(file_name, 'r') as file: #opening the file\n",
        "        inputdata= file.read() #reading the file and the contents in the file data.txt is assigned\n",
        "        print(f\"Contents of {file_name}:\\t{inputdata}\")\n",
        "except Exception as error: #it prints as  since the file is removed.\n",
        "    print(f\"permission error:\")"
      ],
      "metadata": {
        "colab": {
          "base_uri": "https://localhost:8080/"
        },
        "id": "-9iNH1YOUNlJ",
        "outputId": "120f25c9-9685-4523-db8b-8ccd30f3a73e"
      },
      "execution_count": null,
      "outputs": [
        {
          "output_type": "stream",
          "name": "stdout",
          "text": [
            "permission error:\n"
          ]
        }
      ]
    },
    {
      "cell_type": "code",
      "source": [
        "#Task 5: Advanced File Operations\n",
        "#1.\tFile Existence Check: Write a script to check if a file named check.txt exists. If it exists, delete the file. If it does not, create it with the content “This is a new file.”\n",
        "file = \"check.txt\"\n",
        "text=\"this is new file\"\n",
        "try:\n",
        "  with open(file,'w') as file:\n",
        "    data=file.write()\n",
        "    print(f\"contents of {file}: {data}\")\n",
        "except Exception as error:\n",
        "    print(f\"it is error\")"
      ],
      "metadata": {
        "colab": {
          "base_uri": "https://localhost:8080/"
        },
        "id": "DYsbwiKFVLjQ",
        "outputId": "18309b8f-4a31-437a-cbc4-3d9a343bee59"
      },
      "execution_count": null,
      "outputs": [
        {
          "output_type": "stream",
          "name": "stdout",
          "text": [
            "it is error\n"
          ]
        }
      ]
    },
    {
      "cell_type": "code",
      "source": [
        "file=open('check.txt')\n"
      ],
      "metadata": {
        "id": "mVBUTLmEYDtx"
      },
      "execution_count": null,
      "outputs": []
    },
    {
      "cell_type": "code",
      "source": [
        "import os\n",
        "os.remove('check.txt')"
      ],
      "metadata": {
        "id": "arB0irVHYZi6"
      },
      "execution_count": null,
      "outputs": []
    },
    {
      "cell_type": "code",
      "source": [
        "file=open('check.txt')"
      ],
      "metadata": {
        "colab": {
          "base_uri": "https://localhost:8080/",
          "height": 175
        },
        "id": "06kGeDtfYgEG",
        "outputId": "e4a49e1d-a90b-4c0f-fbb7-c1adfee8e136"
      },
      "execution_count": null,
      "outputs": [
        {
          "output_type": "error",
          "ename": "FileNotFoundError",
          "evalue": "ignored",
          "traceback": [
            "\u001b[0;31m---------------------------------------------------------------------------\u001b[0m",
            "\u001b[0;31mFileNotFoundError\u001b[0m                         Traceback (most recent call last)",
            "\u001b[0;32m<ipython-input-99-aaf836c9a4ad>\u001b[0m in \u001b[0;36m<cell line: 1>\u001b[0;34m()\u001b[0m\n\u001b[0;32m----> 1\u001b[0;31m \u001b[0mfile\u001b[0m\u001b[0;34m=\u001b[0m\u001b[0mopen\u001b[0m\u001b[0;34m(\u001b[0m\u001b[0;34m'check.txt'\u001b[0m\u001b[0;34m)\u001b[0m\u001b[0;34m\u001b[0m\u001b[0;34m\u001b[0m\u001b[0m\n\u001b[0m",
            "\u001b[0;31mFileNotFoundError\u001b[0m: [Errno 2] No such file or directory: 'check.txt'"
          ]
        }
      ]
    },
    {
      "cell_type": "code",
      "source": [
        "#Task-5\n",
        "#2.\tFile Rename: Write a script to rename an existing file old_name.txt to new_name.txt. Ensure your script checks if old_name.txt exists and if new_name.txt already exists.\n",
        "file=\"old_name.txt\"\n",
        "with open('old_name.txt', 'a') as file:\n",
        "    file.write(\"\\n new info.\")\n",
        "file_name = \"old_name.txt\" #here assigning the file name .\n",
        "try:\n",
        "    with open(file, 'r') as file: #opening the file\n",
        "        inputdata= file.read()\n",
        "        print(f\"Contents of {file}:\\t{inputdata}\")\n",
        "except Exception as error:\n",
        "    print(f\" it is an error:\")\n",
        "file.close()\n",
        "import os\n",
        "os.rename('old_name.txt', 'new_name.txt')\n",
        "file=open('new_name.txt')\n",
        "\n",
        "\n",
        "\n"
      ],
      "metadata": {
        "colab": {
          "base_uri": "https://localhost:8080/"
        },
        "id": "VtymfDirYlhc",
        "outputId": "69ea488d-92a6-4d5b-d045-fe79aef26bb2"
      },
      "execution_count": null,
      "outputs": [
        {
          "output_type": "stream",
          "name": "stdout",
          "text": [
            " it is an error:\n"
          ]
        }
      ]
    },
    {
      "cell_type": "code",
      "source": [
        "#Tak-31.\tLarge File Processing: Assume large_data.txt is a large file.\n",
        "#Write a script to read and print the first 100 lines of the file. If the file has fewer than 100 lines, handle this gracefully without throwing an error.\n",
        "try:\n",
        "  with open(\"large_data.txt\",'r') as ld:\n",
        "    count = 0 #variable for storing number of lines\n",
        "    for line in ld:#iterating through each line\n",
        "      if count <= 100:\n",
        "        print(line)\n",
        "        count += 1\n",
        "except FileNotFoundError:\n",
        "      if count < 100:\n",
        "          raise FileNotFoundError"
      ],
      "metadata": {
        "id": "rKatRzbpBTXb",
        "outputId": "e0d990c3-6d57-4474-8912-a2003bab1bfd",
        "colab": {
          "base_uri": "https://localhost:8080/"
        }
      },
      "execution_count": null,
      "outputs": [
        {
          "output_type": "stream",
          "name": "stdout",
          "text": [
            "\n",
            "\n",
            "HTML CSS JAVASCRIPT SQL PYTHON JAVA PHP HOW TO W3.CSS C C++ C# BOOTSTRAP REACT MYSQL JQUERY EXCEL XML DJANGO NUMPY PANDAS NODEJS R TYPESCRIPT ANGULAR GIT POSTGRESQL MONGODB ASP AWS AI GO KOTLIN SASS VUE GEN AI SCIPY CYBERSECURITY DATA SCIENCE \n",
            "\n",
            "\n",
            "\n",
            "Python os Module\n",
            "\n",
            "Python os Module\n",
            "\n",
            "Python has a built-in os module with methods for interacting with the operating system, like creating files and directories, management of files and directories, input, output, environment variables, process management, etc.\n",
            "\n",
            "\n",
            "\n",
            "The os module has the following set of methods and constants.\n",
            "\n",
            "\n",
            "\n",
            "OS Methods\n",
            "\n",
            "Method\tDescription\n",
            "\n",
            "os._exit()\tExits the process with the specified status\n",
            "\n",
            "os.abort()\tTerminates a running process immediately\n",
            "\n",
            "os.access()\tUses the real uid/gid to check access to a path\n",
            "\n",
            "os.add_dll_directory()\tAdds a path to the DLL search path\n",
            "\n",
            "os.chdir()\tChange the current working directory\n",
            "\n",
            "os.chflags()\tSets the flags of path to the numeric flags\n",
            "\n",
            "os.chmod()\tChanges the mode of path to the numeric mode\n",
            "\n",
            "os.chown()\tChanges the owner and group id of a specified path to the specified numeric owner id and group id\n",
            "\n",
            "os.chroot()\tChanges the root directory of the current process to a specified path\n",
            "\n",
            "os.close()\tCloses the specified file descriptor\n",
            "\n",
            "os.closerange()\tCloses all file descriptors from fd_low to fd_high\n",
            "\n",
            "os.confstr()\tReturns string-valued system configuration values\n",
            "\n",
            "os.cpu_count()\tReturns the number of CPUs present in the system\n",
            "\n",
            "os.ctermid()\tReturns the filename associated with the controlling terminal of the process\n",
            "\n",
            "os.device_encoding()\tReturns the encoding of the device associated with the file descriptor, if it is connected to a terminal\n",
            "\n",
            "os.dup()\tDuplicates a file descriptor\n",
            "\n",
            "os.dup2()\t Duplicates a file descriptor to a given value\n",
            "\n",
            "os.fchdir()\tChanges the current working directory to a directory opened by os.open()\n",
            "\n",
            "os.fchmod()\tChanges the mode of a file to the specified numeric mode\n",
            "\n",
            "os.fchown()\tChanges the owner and group id of a file to the numeric uid and gid\n",
            "\n",
            "os.fdatasync()\tForces write of file to disc - not forces update of metadata\n",
            "\n",
            "os.fdopen()\tReturns an open file object connected to a file\n",
            "\n",
            "os.fork()\tForks a child process\n",
            "\n",
            "os.forkpty()\tForks a child process, using a new pseudo-terminal as the child's controlling terminal\n",
            "\n",
            "os.fpathconf()\tReturns system configuration information relevant to an open file\n",
            "\n",
            "os.fsdecode()\tDecodes a file path\n",
            "\n",
            "os.fsencode()\tEncodes a file path\n",
            "\n",
            "os.fspath()\tReturns the file system representation of a path\n",
            "\n",
            "os.fstat()\tReturns the status of a file\n",
            "\n",
            "os.fstatvfs()\tReturns information about the file system of a file\n",
            "\n",
            "os.fsync()\tForces write of file with file descriptor fd to disk\n",
            "\n",
            "os.ftruncate()\tTruncates a file to a specified length\n",
            "\n",
            "os.fwalk()\t \n",
            "\n",
            "os.get_blocking()\tReturns the blocking mode information of the file descriptor\n",
            "\n",
            "os.get_exec_path()\tReturns a list of directories, in which the system looks for named executable programs\n",
            "\n",
            "os.get_handle_inheritable()\t \n",
            "\n",
            "os.get_inheritable()\tReturns the inheritable flag of the file descriptor\n",
            "\n",
            "os.get_terminal_size()\tReturns the size of a terminal as a pair of columns and lines\n",
            "\n",
            "os.getcwd()\tReturns the current working directory\n",
            "\n",
            "os.getcwdb()\tReturns the current working directory in bytestring\n",
            "\n",
            "os.getegid()\tReturn the effective group id of the current process\n",
            "\n",
            "os.getenv()\tReturns the value of the environment variable key\n",
            "\n",
            "os.getenvb()\tReturns the value of the environment variable key, in bytes\n",
            "\n",
            "os.geteuid()\tReturns the effective user id of the current process\n",
            "\n",
            "os.getgid()\tReturns the real group id of the current process\n",
            "\n",
            "os.getgrouplist()\tReturns a list of all group ids for a specified user\n",
            "\n",
            "os.getgroups()\tReturns a list of supplementary group ids associated with the current process\n",
            "\n",
            "os.getloadavg()\tReturns the load average over the last 1, 5, and 15 minutes\n",
            "\n",
            "os.getlogin()\tReturns the name of the user logged in to the terminal\n",
            "\n",
            "os.getpgid()\tReturns the process group id of a specific process id\n",
            "\n",
            "os.getpgrp()\tReturns the current process group id\n",
            "\n",
            "os.getpid()\tReturns the process id of the current process\n",
            "\n",
            "os.getppid()\tReturns the parent process id of the current process\n",
            "\n",
            "os.getpriority()\tReturns the scheduling priority of a process, process group, or user\n",
            "\n",
            "os.getresgid()\tReturns the current process' real, effective, and saved group ids\n",
            "\n",
            "os.getresuid()\tReturns the current process' real, effective, and saved user ids\n",
            "\n",
            "os.getsid()\tReturns the session id of a process\n",
            "\n",
            "os.getuid()\tReturns the current process' real user id\n",
            "\n",
            "os.initgroups()\tInitializes a group access list showing all the member groups of a user plus the group id\n",
            "\n",
            "os.isatty()\tReturns whether a file descriptor is open and connected to a tty(-like) device or not.\n",
            "\n",
            "os.kill()\tSends a signal to the process with the specified process id\n",
            "\n",
            "os.killpg()\tSends a signal to the process with the specified process id\n",
            "\n",
            "os.lchflags()\tChanges the flags of a path to the numeric flags\n",
            "\n",
            "os.lchmod()\tChanges the mode of path to the numeric mode\n",
            "\n",
            "os.lchown()\tChanges the owner and group id of path to the numeric uid and gid\n",
            "\n",
            "os.link()\tCreates a hard link pointing to source named destination\n",
            "\n",
            "os.listdir()\tReturns a list of the names of the entries in a directory\n",
            "\n",
            "os.lockf()\tApplies, tests, or removes a POSIX lock on an open file\n",
            "\n",
            "os.lseek()\tSets the current position of file descriptor to the defined position\n",
            "\n",
            "os.lstat()\tReturns the status of a file or file descriptor, but does not follow symbolic links\n",
            "\n",
            "os.major()\tReturns the device major number from raw device number\n",
            "\n",
            "os.makedev()\tReturns a raw device number from the specified major and minor device numbers\n",
            "\n",
            "os.makedirs()\tCreates a directory recursively\n",
            "\n",
            "os.memfd_create()\tCreate an anonymous file and returns a file descriptor\n",
            "\n",
            "os.minor()\tReturns the device minor number from raw device number\n",
            "\n",
            "os.mkdir()\tCreates a directory (with a specified mode)\n",
            "\n",
            "os.mkfifo()\tCreates a FIFO named path (with a specified mode)\n",
            "\n",
            "os.mknod()\t \n",
            "\n",
            "os.nice()\t \n",
            "\n",
            "os.open()\t \n",
            "\n",
            "os.openpty()\t \n",
            "\n",
            "os.pathconf()\t \n",
            "\n",
            "os.pipe()\t \n",
            "\n",
            "os.pipe2()\t \n",
            "\n",
            "os.plock()\t \n",
            "\n",
            "os.popen()\t \n",
            "\n",
            "os.posix_fadvise()\t \n",
            "\n",
            "os.posix_fallocate()\t \n",
            "\n",
            "os.posix_spawn()\t \n",
            "\n",
            "os.posix_spawnp()\t \n",
            "\n"
          ]
        }
      ]
    }
  ]
}