{
  "nbformat": 4,
  "nbformat_minor": 0,
  "metadata": {
    "colab": {
      "provenance": [],
      "authorship_tag": "ABX9TyNxFZVziGqsDp2R/5dfd7hk",
      "include_colab_link": true
    },
    "kernelspec": {
      "name": "python3",
      "display_name": "Python 3"
    },
    "language_info": {
      "name": "python"
    }
  },
  "cells": [
    {
      "cell_type": "markdown",
      "metadata": {
        "id": "view-in-github",
        "colab_type": "text"
      },
      "source": [
        "<a href=\"https://colab.research.google.com/github/Samara-123456/assignment2/blob/main/Assignment3.ipynb\" target=\"_parent\"><img src=\"https://colab.research.google.com/assets/colab-badge.svg\" alt=\"Open In Colab\"/></a>"
      ]
    },
    {
      "cell_type": "code",
      "execution_count": 1,
      "metadata": {
        "id": "0U-h3rcvSw7H"
      },
      "outputs": [],
      "source": [
        "#1.\tExplain the difference between if, elif, and else in Python.\n",
        "#Answer: if an 'if' statement is true,\n",
        "#checks 'elif' statements only if each 'if' and 'elif' statement above it is false,\n",
        "#and 'else' runs only when the conditions for all attached 'if' and 'elif' statements are false."
      ]
    },
    {
      "cell_type": "code",
      "source": [
        "#2.\tWrite a Python function that takes an integer and prints “Even” if the number is even and “Odd” if the number is odd.\n",
        "def odd_even(y):\n",
        "  if y%2==0:\n",
        "    return \"even\"\n",
        "  else:\n",
        "    return \"odd\"\n",
        "result = odd_even(7)\n",
        "print(result)\n"
      ],
      "metadata": {
        "colab": {
          "base_uri": "https://localhost:8080/"
        },
        "id": "IjBbHbm1TrRX",
        "outputId": "0254f1c2-e935-417f-d09e-7ed32127147d"
      },
      "execution_count": 3,
      "outputs": [
        {
          "output_type": "stream",
          "name": "stdout",
          "text": [
            "odd\n"
          ]
        }
      ]
    },
    {
      "cell_type": "code",
      "source": [
        " \t#3.In the given code the range is declared upto 5 by using for . In this for loop it is going to give the values upto 5.\n",
        "for i in range(5):\n",
        "    print(i)\n"
      ],
      "metadata": {
        "colab": {
          "base_uri": "https://localhost:8080/"
        },
        "id": "Pq3QSJNPUoUE",
        "outputId": "b6d480a4-fc09-4015-9395-e0d0787af619"
      },
      "execution_count": 6,
      "outputs": [
        {
          "output_type": "stream",
          "name": "stdout",
          "text": [
            "0\n",
            "1\n",
            "2\n",
            "3\n",
            "4\n"
          ]
        }
      ]
    },
    {
      "cell_type": "code",
      "source": [
        "#4.\tWrite a Python script that prints all the prime numbers in a given list numbers =[2, 3, 5, 7, 11, 13, 17, 19, 23, 29].\n",
        "\n",
        "starting_number = int(input (\"enter the starting number\"))  #defining the range of numbers\n",
        "ending_number = int(input (\"enter the ending number \"))\n",
        "print (\"Prime numbers in given range are: \")  #[2, 3, 5, 7, 11, 13, 17, 19, 23, 29].\n",
        "for n in range (starting_number, ending_number):\n",
        "    if n > 1:\n",
        "        for i in range (2, n):\n",
        "            if (n % i) == 0:  #declaring the condition\n",
        "                break\n",
        "        else:\n",
        "            print (n)"
      ],
      "metadata": {
        "colab": {
          "base_uri": "https://localhost:8080/"
        },
        "id": "jiBMuNeXVC82",
        "outputId": "da7dfb87-84be-4585-8bde-a7e27f265557"
      },
      "execution_count": 11,
      "outputs": [
        {
          "output_type": "stream",
          "name": "stdout",
          "text": [
            "enter the starting number2\n",
            "enter the ending number 30\n",
            "Prime numbers in given range are: \n",
            "2\n",
            "3\n",
            "5\n",
            "7\n",
            "11\n",
            "13\n",
            "17\n",
            "19\n",
            "23\n",
            "29\n"
          ]
        }
      ]
    },
    {
      "cell_type": "code",
      "source": [
        "#5.\tCan a while loop be used to iterate over a list? Provide an example\n",
        "# yes while loop is used to iterate over a list\n",
        "list = [2,3,5,7,11]\n",
        "i = 0\n",
        "while i < len(list): #while loop iterating\n",
        "    print(list[i])\n",
        "    i += 1"
      ],
      "metadata": {
        "colab": {
          "base_uri": "https://localhost:8080/"
        },
        "id": "1RQk5K-MXfVe",
        "outputId": "324eb087-35fb-48db-c873-9e2516818a13"
      },
      "execution_count": 17,
      "outputs": [
        {
          "output_type": "stream",
          "name": "stdout",
          "text": [
            "2\n",
            "3\n",
            "5\n",
            "7\n",
            "11\n"
          ]
        }
      ]
    },
    {
      "cell_type": "code",
      "source": [
        "#6.\tWrite a Python program that asks the user for input and continues to ask until they type “quit\"\n",
        "while True:\n",
        "  name = input()\n",
        "  if name == \"quit\":\n",
        "        break"
      ],
      "metadata": {
        "colab": {
          "base_uri": "https://localhost:8080/"
        },
        "id": "J9PkyZWukqO1",
        "outputId": "fba51a4c-9c86-4c16-d1c1-2e1e9a0d6230"
      },
      "execution_count": 69,
      "outputs": [
        {
          "name": "stdout",
          "output_type": "stream",
          "text": [
            "sam\n",
            "ram\n",
            "boy\n",
            "quit\n"
          ]
        }
      ]
    },
    {
      "cell_type": "code",
      "source": [
        "#7.\tWhat is a function in Python and why is it useful?\n",
        "#Function is a block of code it only runs when it is called.\n",
        "#8.Create a Python function max_of_three that takes three numbers as arguments and returns the largest of them.\n",
        "def maximum_of_three(a,b,c):\n",
        "  if(a>b) & (a>c):\n",
        "    return a\n",
        "  elif (b>a) & (b>c):\n",
        "    return b\n",
        "  else:\n",
        "    return c\n",
        "\n",
        "result = maximum_of_three(7,17,77)\n",
        "print(result)"
      ],
      "metadata": {
        "colab": {
          "base_uri": "https://localhost:8080/"
        },
        "id": "rmJcfhkobt3-",
        "outputId": "c67b67ec-2307-4013-d411-7a7f9e7e7a9d"
      },
      "execution_count": 21,
      "outputs": [
        {
          "output_type": "stream",
          "name": "stdout",
          "text": [
            "77\n"
          ]
        }
      ]
    },
    {
      "cell_type": "code",
      "source": [
        "#9.Describe a scenario where a lambda function is more advantageous than a traditional function.\n",
        "#Lambda functions in Python are  simple functions these are defined without the need for a formal def statement.\n",
        "#They are used in situations where you need a small function for a short period of time.\n",
        "#Instead of using block of statements like for loop, if...else..\n",
        "\n"
      ],
      "metadata": {
        "id": "5hYCDZkTdoLA"
      },
      "execution_count": null,
      "outputs": []
    },
    {
      "cell_type": "code",
      "source": [
        "#10.Write a lambda function that reverses a string and apply it to the string “Hello World”.\n",
        "string = lambda name : name[::-1] #assigning lambda to print string in the reverse\n",
        "print(string(\"Hello World\"))"
      ],
      "metadata": {
        "colab": {
          "base_uri": "https://localhost:8080/"
        },
        "id": "Xbzcm9_ie0ix",
        "outputId": "08fb8578-ad96-427a-8050-de81e777fa54"
      },
      "execution_count": 25,
      "outputs": [
        {
          "output_type": "stream",
          "name": "stdout",
          "text": [
            "dlroW olleH\n"
          ]
        }
      ]
    },
    {
      "cell_type": "code",
      "source": [
        "#If…Else Coding Task\n",
        "#11.Write a Python program that accepts a string. It should print “This is a palindrome” if the string is a palindrome and “This is not a palindrome” if it isn’t. Ignore casing and spaces\n",
        "string = input(\"Enter a string: \")\n",
        "if string == string[::-1]:\n",
        "  print(\"This is a Palindrome\")\n",
        "else:\n",
        "  print(\"This is not a palindrome\")"
      ],
      "metadata": {
        "colab": {
          "base_uri": "https://localhost:8080/"
        },
        "id": "1Jz2q2kkfmmm",
        "outputId": "71e45a40-50c9-44bd-f7c2-b14a8d4f90cd"
      },
      "execution_count": 29,
      "outputs": [
        {
          "output_type": "stream",
          "name": "stdout",
          "text": [
            "Enter a string: malayalam\n",
            "This is a Palindrome\n"
          ]
        }
      ]
    },
    {
      "cell_type": "code",
      "source": [
        "#For Loop Coding Task\n",
        "#12.\tWrite a Python program using a for loop that asks the user to enter 10 integers and then prints the sum of those integers.\n",
        "n = int(input(\"Enter number\"))\n",
        "sum = 0\n",
        "# loop from 1 to n\n",
        "for num in range(1, n + 1):\n",
        "    sum = sum + num\n",
        "print(\"Sum of first \", n, \"numbers is: \", sum)\n",
        "\n",
        "\n",
        "\n"
      ],
      "metadata": {
        "colab": {
          "base_uri": "https://localhost:8080/"
        },
        "id": "ShItzquUgcva",
        "outputId": "ab52fd61-c046-4450-e333-10387a4b1df1"
      },
      "execution_count": 43,
      "outputs": [
        {
          "output_type": "stream",
          "name": "stdout",
          "text": [
            "Enter number10\n",
            "Sum of first  10 numbers is:  55\n"
          ]
        }
      ]
    },
    {
      "cell_type": "code",
      "source": [
        "#While Loop Coding Task\n",
        "#13.\tImplement a Python program that initializes a counter at 0 and increments it by 2 on each iteration of a while loop until it reaches or exceeds 20.\n",
        "counter = 0\n",
        "while (counter<20):\n",
        "   counter+= 2\n",
        "   print(counter)\n"
      ],
      "metadata": {
        "colab": {
          "base_uri": "https://localhost:8080/"
        },
        "id": "kNTzLdmbjQIs",
        "outputId": "ad2531a5-b389-4113-861f-a4cb5b09d737"
      },
      "execution_count": 45,
      "outputs": [
        {
          "output_type": "stream",
          "name": "stdout",
          "text": [
            "2\n",
            "4\n",
            "6\n",
            "8\n",
            "10\n",
            "12\n",
            "14\n",
            "16\n",
            "18\n",
            "20\n"
          ]
        }
      ]
    },
    {
      "cell_type": "code",
      "source": [
        "#Functions Coding Task\n",
        "#14.\tDefine a Python function factorial that takes a number and returns its factorial. The factorial of a number is the product of all the integers from 1 to that number\n",
        "def factorial(a):\n",
        "   if (a==0):\n",
        "    return 1\n",
        "   else:\n",
        "     return (a * factorial(a-1))\n",
        "factorial(7)"
      ],
      "metadata": {
        "colab": {
          "base_uri": "https://localhost:8080/"
        },
        "id": "UYIgkufejh0J",
        "outputId": "a6441d03-6464-4ac5-f128-19e465d6d5ba"
      },
      "execution_count": 57,
      "outputs": [
        {
          "output_type": "execute_result",
          "data": {
            "text/plain": [
              "5040"
            ]
          },
          "metadata": {},
          "execution_count": 57
        }
      ]
    },
    {
      "cell_type": "code",
      "source": [
        "#15.\tWrite a lambda function to compute the product of two numbers. Use it to calculate the product of 12 and 15.\n",
        "product = lambda x,y : x * y\n",
        "print(product(10,12))\n"
      ],
      "metadata": {
        "colab": {
          "base_uri": "https://localhost:8080/"
        },
        "id": "7M8Ds2l-kUpH",
        "outputId": "eed82de2-9c1e-415d-d087-43097ba24892"
      },
      "execution_count": 58,
      "outputs": [
        {
          "output_type": "stream",
          "name": "stdout",
          "text": [
            "120\n"
          ]
        }
      ]
    }
  ]
}