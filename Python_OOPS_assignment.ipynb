{
  "nbformat": 4,
  "nbformat_minor": 0,
  "metadata": {
    "colab": {
      "provenance": [],
      "authorship_tag": "ABX9TyOws8iFVC+3P2O7ntdFGp5x"
    },
    "kernelspec": {
      "name": "python3",
      "display_name": "Python 3"
    },
    "language_info": {
      "name": "python"
    }
  },
  "cells": [
    {
      "cell_type": "code",
      "source": [
        "#Encapsulation Principle\n",
        "#1 Implement a `BankAccount` Class**\n",
        "#Create a class `BankAccount` with private attributes for account holder's name, account number, and balance.\n",
        "class BankAccount:\n",
        "    def __init__(self, holdersname,accountnumber,balance):\n",
        "        self.holdersname = holdersname\n",
        "        self.accountnumber = accountnumber\n",
        "        self.balance=balance\n",
        "\n",
        "    def display_info(self):\n",
        "        print(f\"holdersname: {self.holdersname}, accountnumber: {self.accountnumber},balance:{self.balance}\")\n",
        "\n",
        "my_BankAccount = BankAccount(\"Samara Simha Reddy\", 56920100004223, 10000)\n",
        "my_BankAccount.display_info()"
      ],
      "metadata": {
        "colab": {
          "base_uri": "https://localhost:8080/"
        },
        "id": "-gk6IPPIcPPZ",
        "outputId": "97679175-1e41-4254-9bc6-95807743e0dd"
      },
      "execution_count": 5,
      "outputs": [
        {
          "output_type": "stream",
          "name": "stdout",
          "text": [
            "holdersname: Samara Simha Reddy, accountnumber: 56920100004223,balance:10000\n"
          ]
        }
      ]
    },
    {
      "cell_type": "code",
      "source": [
        "#2Design a `PasswordManager` Class**\n",
        "#Create a class `PasswordManager` with a private attribute to store a password.\n",
        "# Implement methods to set and validate the password.\n",
        "# The `set_password` method should ensure that the new password is at least 8 characters long.\n",
        "class PasswordManager:\n",
        "    def __init__(self):\n",
        "        self._password = None\n",
        "\n",
        "    def set_password(self, new_password):\n",
        "        if len(new_password) >= 8:\n",
        "            self._password = new_password\n",
        "            print(\"Password set successfully.\")\n",
        "        else:\n",
        "            print(\"Password must be at least 8 characters long.\")\n",
        "\n",
        "    def validate_password(self, input_password):\n",
        "        if self._password is not None and input_password == self._password:\n",
        "            print(\"Password is valid.\")\n",
        "            return True\n",
        "        else:\n",
        "            print(\"Invalid password.\")\n",
        "            return False\n",
        "\n",
        "# Example\n",
        "password_manager = PasswordManager()\n",
        "\n",
        "password_manager.set_password(\"Samara123\")\n",
        "\n",
        "# Try to set an invalid password\n",
        "password_manager.set_password(\"Samara\")\n",
        "\n",
        "# Validate the password\n",
        "password_manager.validate_password(\"Samara123\")  # \"Password is valid.\"\n",
        "password_manager.validate_password(\"samara\")  # \"Invalid password.\"\n",
        "\n"
      ],
      "metadata": {
        "colab": {
          "base_uri": "https://localhost:8080/"
        },
        "id": "uZH3dohbdDVi",
        "outputId": "dbafeffa-ad40-401c-b8db-76a9f661c032"
      },
      "execution_count": 5,
      "outputs": [
        {
          "output_type": "stream",
          "name": "stdout",
          "text": [
            "Password set successfully.\n",
            "Password must be at least 8 characters long.\n",
            "Password is valid.\n",
            "Invalid password.\n"
          ]
        },
        {
          "output_type": "execute_result",
          "data": {
            "text/plain": [
              "False"
            ]
          },
          "metadata": {},
          "execution_count": 5
        }
      ]
    },
    {
      "cell_type": "code",
      "source": [
        "#Inheritance\n",
        "#Question 1: Shape Hierarchy**\n",
        "# Define a base class `Shape` with a method `area` that returns 0.\n",
        "# Create two derived classes, `Circle` and `Rectangle`, overriding the `area` method\n",
        "import math\n",
        "\n",
        "class Shape:\n",
        "    def area(self):\n",
        "        return 0\n",
        "\n",
        "class Circle(Shape):\n",
        "    def __init__(self, radius):\n",
        "        self.radius = radius\n",
        "\n",
        "    def area(self):\n",
        "        return math.pi * self.radius**2\n",
        "\n",
        "class Rectangle(Shape):\n",
        "    def __init__(self, width, height):\n",
        "        self.width = width\n",
        "        self.height = height\n",
        "\n",
        "    def area(self):\n",
        "        return self.width * self.height\n",
        "\n",
        "# Example:\n",
        "circle = Circle(8)\n",
        "rectangle = Rectangle(6, 8)\n",
        "\n",
        "print(\"Area of Circle:\", circle.area())  # as radius of circle is 8\n",
        "print(\"Area of Rectangle:\", rectangle.area())  #  width 6 and height 8 for a rectangle\n"
      ],
      "metadata": {
        "colab": {
          "base_uri": "https://localhost:8080/"
        },
        "id": "NLhli7x-eVFN",
        "outputId": "bb423fdd-a7a4-4873-d83b-357f851dcc69"
      },
      "execution_count": 6,
      "outputs": [
        {
          "output_type": "stream",
          "name": "stdout",
          "text": [
            "Area of Circle: 201.06192982974676\n",
            "Area of Rectangle: 48\n"
          ]
        }
      ]
    },
    {
      "cell_type": "code",
      "source": [
        "#Question 2: Animal Sound System**\n",
        "#Create a base class `Animal` with a method `speak` that returns a generic sound.\n",
        "#Extend this class with specific animal classes (e.g., `Dog`, `Cat`) that override the `speak` method.\n",
        "class Animal:\n",
        "    def speak(self):\n",
        "        return \"Generic animal sound\"\n",
        "\n",
        "class Dog(Animal):\n",
        "    def speak(self):\n",
        "        return \"Wooh! Wooh!\"\n",
        "\n",
        "class Cat(Animal):\n",
        "    def speak(self):\n",
        "        return \"Meow! Meow!\"\n",
        "\n",
        "# Example:\n",
        "generic_animal = Animal()\n",
        "dog = Dog()\n",
        "cat = Cat()\n",
        "\n",
        "print(\"Generic Animal Sound:\", generic_animal.speak())\n",
        "print(\"Dog Sound:\", dog.speak())  #   Here dog sound should be printed\"\n",
        "print(\"Cat Sound:\", cat.speak())  #  Here cat sound should be printed\"\n"
      ],
      "metadata": {
        "colab": {
          "base_uri": "https://localhost:8080/"
        },
        "id": "b8NZ8rM9eb1V",
        "outputId": "7c87dcbb-cf5b-4024-e0ed-056caa318848"
      },
      "execution_count": 8,
      "outputs": [
        {
          "output_type": "stream",
          "name": "stdout",
          "text": [
            "Generic Animal Sound: Generic animal sound\n",
            "Dog Sound: Wooh! Wooh!\n",
            "Cat Sound: Meow! Meow!\n"
          ]
        }
      ]
    },
    {
      "cell_type": "code",
      "source": [
        "#Polymorphisim Principle\n",
        "#Question 1\n",
        "#Vehicle Description Function**\n",
        "#Write a function `describe_vehicle` that takes an object and calls its `describe` method.\n",
        "# Create classes `Car` and `Boat`, each with a `describe` method.\n",
        "class Vehicle:\n",
        "    def describe(self):\n",
        "        return \"Generic vehicle description\"\n",
        "\n",
        "class Car(Vehicle):\n",
        "    def describe(self):\n",
        "        return \" Car as A four-wheeled vehicle on road\"\n",
        "\n",
        "class Boat(Vehicle):\n",
        "    def describe(self):\n",
        "        return \"Boat as A type of waterways transportation\"\n",
        "\n",
        "def describe_vehicle(vehicle):\n",
        "\n",
        "   return vehicle.describe()\n",
        "\n",
        "# Example:\n",
        "car = Car()\n",
        "boat = Boat()\n",
        "print(describe_vehicle(car))  # here it will  print as \" car as A four-wheeled vehicle on road\"\n",
        "print(describe_vehicle(boat))  #here it will  print \" boat as A type of waterways transportation\"\n"
      ],
      "metadata": {
        "colab": {
          "base_uri": "https://localhost:8080/"
        },
        "id": "a9YQcHJnf8hz",
        "outputId": "17d519f6-4b62-4269-80e5-857768689bf0"
      },
      "execution_count": 13,
      "outputs": [
        {
          "output_type": "stream",
          "name": "stdout",
          "text": [
            " Car as A four-wheeled vehicle on road\n",
            "Boat as A type of waterways transportation\n"
          ]
        }
      ]
    },
    {
      "cell_type": "code",
      "source": [
        "#Question 2: Calculator System**\n",
        "#Implement a class `Calculator` with a method `operate` that takes two numbers.\n",
        "#Create subclasses `Adder` and `Multiplier` that override the `operate` method for addition and multiplication.\n",
        "class Calculator:\n",
        "  def operate(self, num1, num2):\n",
        "      return \"no operation initially\"\n",
        "class Adder(Calculator):\n",
        "    def operate(self, num1, num2):\n",
        "        return num1 + num2\n",
        "\n",
        "class Multiplier(Calculator):\n",
        "    def operate(self, num1, num2):\n",
        "        return num1 * num2\n",
        "\n",
        "# Example:\n",
        "calculator=Calculator()\n",
        "adder = Adder()\n",
        "multiplier = Multiplier()\n",
        "\n",
        "# Call operate with different objects\n",
        "print(calculator.operate(5,4))  #  print \"No operation initially\"\n",
        "print(adder.operate(5, 4))       #  print 9 (5 + 4)\n",
        "print(multiplier.operate(3, 4))  # Should print 12 (3 * 4)\n"
      ],
      "metadata": {
        "colab": {
          "base_uri": "https://localhost:8080/"
        },
        "id": "0SJ3PBFtglhs",
        "outputId": "d13770e3-7206-45c7-99d4-663dc98ecd06"
      },
      "execution_count": 25,
      "outputs": [
        {
          "output_type": "stream",
          "name": "stdout",
          "text": [
            "no operation initially\n",
            "9\n",
            "12\n"
          ]
        }
      ]
    },
    {
      "cell_type": "code",
      "source": [
        "#Abstraction Principle\n",
        "#Question 1: Sensor System**\n",
        " #Create an abstract class `Sensor` with an abstract method `read_value`.\n",
        "#Implement subclasses `TemperatureSensor` and `PressureSensor` with specific `read_value` methods.\n",
        "from abc import ABC, abstractmethod\n",
        "\n",
        "class Sensor(ABC):\n",
        "    @abstractmethod\n",
        "    def read_value(self):\n",
        "        pass\n",
        "\n",
        "class TemperatureSensor(Sensor):\n",
        "    def read_value(self):\n",
        "\n",
        "        return \"Temperature value\" #for reading temparature sensor\n",
        "\n",
        "class PressureSensor(Sensor):\n",
        "    def read_value(self):\n",
        "\n",
        "        return \"Pressure value\" #for reading pressure sensor\n",
        "\n",
        "# Example\n",
        "temperature_sensor = TemperatureSensor()\n",
        "pressure_sensor = PressureSensor()\n",
        "\n",
        "# Call read_value with different objects\n",
        "print(temperature_sensor.read_value())  #  print \"Temperature value\"\n",
        "print(pressure_sensor.read_value())     # print \"Pressure value\"\n"
      ],
      "metadata": {
        "colab": {
          "base_uri": "https://localhost:8080/"
        },
        "id": "TIoVpSwIhdK0",
        "outputId": "c8bba5d1-4a30-458a-f195-0b2e9cc42d92"
      },
      "execution_count": 27,
      "outputs": [
        {
          "output_type": "stream",
          "name": "stdout",
          "text": [
            "Temperature value\n",
            "Pressure value\n"
          ]
        }
      ]
    },
    {
      "cell_type": "code",
      "source": [
        "#Question 2: Storage Mechanism**\n",
        "# Design an abstract class `Storage` with abstract methods `save_data` and `read_data`.\n",
        "# Create subclasses `FileStorage` and `DatabaseStorage` implementing these methods.\n",
        "from abc import ABC, abstractmethod\n",
        "\n",
        "class Storage(ABC):\n",
        "    @abstractmethod\n",
        "    def save_data(self, data):\n",
        "        pass\n",
        "\n",
        "    @abstractmethod\n",
        "    def read_data(self):\n",
        "        pass\n",
        "\n",
        "class FileStorage(Storage):\n",
        "    def __init__(self, filename):\n",
        "        self.filename = filename\n",
        "\n",
        "    def save_data(self, data):\n",
        "        with open(self.filename, 'w') as file:\n",
        "            file.write(data)\n",
        "        print(f\"Data saved to file: {self.filename}\")\n",
        "\n",
        "    def read_data(self):\n",
        "        try:\n",
        "            with open(self.filename, 'r') as file:\n",
        "                data = file.read()\n",
        "            print(f\"Data read from file: {self.filename}\")\n",
        "            return data\n",
        "        except FileNotFoundError:\n",
        "            print(f\"File not found: {self.filename}\")\n",
        "            return None\n",
        "\n",
        "class DatabaseStorage(Storage):\n",
        "    def __init__(self, database_name):\n",
        "        self.database_name = database_name\n",
        "\n",
        "    def save_data(self, data):\n",
        "                                   #  saving data to a database\n",
        "        print(f\"Data saved to database: {self.database_name}\")\n",
        "\n",
        "    def read_data(self):\n",
        "                                   #  reading data from a database\n",
        "        print(f\"Data read from database: {self.database_name}\")\n",
        "        return \"Database data\"\n",
        "\n",
        "# Example usage:\n",
        "file_storage = FileStorage(\"data.txt\")\n",
        "database_storage = DatabaseStorage(\"my_database\")\n",
        "\n",
        "file_storage.save_data(\" this is data for file storage.\")\n",
        "file_data = file_storage.read_data()\n",
        "print(\"File Data:\", file_data)\n",
        "\n",
        "database_storage.save_data(\"this is data for database storage.\")\n",
        "database_data = database_storage.read_data()\n",
        "print(\"Database Data:\", database_data)\n"
      ],
      "metadata": {
        "colab": {
          "base_uri": "https://localhost:8080/"
        },
        "id": "jkOJWRfNipVN",
        "outputId": "128a45aa-cd54-48b1-f16e-656acb880b72"
      },
      "execution_count": 28,
      "outputs": [
        {
          "output_type": "stream",
          "name": "stdout",
          "text": [
            "Data saved to file: data.txt\n",
            "Data read from file: data.txt\n",
            "File Data:  this is data for file storage.\n",
            "Data saved to database: my_database\n",
            "Data read from database: my_database\n",
            "Database Data: Database data\n"
          ]
        }
      ]
    }
  ]
}