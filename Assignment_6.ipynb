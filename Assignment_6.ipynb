{
  "nbformat": 4,
  "nbformat_minor": 0,
  "metadata": {
    "colab": {
      "provenance": [],
      "authorship_tag": "ABX9TyPtkcb4KYogy2qK85vvJBpC",
      "include_colab_link": true
    },
    "kernelspec": {
      "name": "python3",
      "display_name": "Python 3"
    },
    "language_info": {
      "name": "python"
    }
  },
  "cells": [
    {
      "cell_type": "markdown",
      "metadata": {
        "id": "view-in-github",
        "colab_type": "text"
      },
      "source": [
        "<a href=\"https://colab.research.google.com/github/Samara-123456/assignment2/blob/main/Assignment_6.ipynb\" target=\"_parent\"><img src=\"https://colab.research.google.com/assets/colab-badge.svg\" alt=\"Open In Colab\"/></a>"
      ]
    },
    {
      "cell_type": "code",
      "execution_count": null,
      "metadata": {
        "colab": {
          "base_uri": "https://localhost:8080/"
        },
        "id": "VLuPrP-_zhli",
        "outputId": "c9dc12e6-b018-464a-c9c2-45c89825aeaf"
      },
      "outputs": [
        {
          "output_type": "stream",
          "name": "stdout",
          "text": [
            "Hello, World!\n",
            "11\n"
          ]
        }
      ],
      "source": [
        "#Section 1:\n",
        "# Basic Syntax and Control Structures (15 Points)\n",
        "#1.\tHello World and Variables (3 Points)\n",
        "#\tWrite a program that prints “Hello, World!”.\n",
        "#\tDeclare two variables, a and b, assign numeric values, and print their sum.\n",
        "a=\"Hello, World!\"\n",
        "print(a)\n",
        "b=4\n",
        "c=7\n",
        "d=b+c\n",
        "print(d)"
      ]
    },
    {
      "cell_type": "code",
      "source": [
        "#2.\tConditional Logic (3 Points)\n",
        "#\tWrite a program that checks if a number is even or odd and prints an appropriate message.\n",
        "n=int(input(\"enter a number: \"))\n",
        "if(n%2==0):\n",
        "  print(\"even number\")\n",
        "else:\n",
        "  print(\"odd number\")"
      ],
      "metadata": {
        "colab": {
          "base_uri": "https://localhost:8080/"
        },
        "id": "4pq_XCc3zwED",
        "outputId": "005c0395-500a-4b36-955a-a9d2fe66c425"
      },
      "execution_count": null,
      "outputs": [
        {
          "output_type": "stream",
          "name": "stdout",
          "text": [
            "enter a number: 6\n",
            "even number\n"
          ]
        }
      ]
    },
    {
      "cell_type": "code",
      "source": [
        "#3.\tLoops - Counting and Sum (3 Points)\n",
        "#\tUse a for loop to print all numbers from 1 to 10.\n",
        "\n",
        "for i in range(10):\n",
        "  print(i)\n"
      ],
      "metadata": {
        "colab": {
          "base_uri": "https://localhost:8080/"
        },
        "id": "Z_ALqeO80jZs",
        "outputId": "4e922375-fc8a-4ccd-f054-e33b056513f7"
      },
      "execution_count": null,
      "outputs": [
        {
          "output_type": "stream",
          "name": "stdout",
          "text": [
            "0\n",
            "1\n",
            "2\n",
            "3\n",
            "4\n",
            "5\n",
            "6\n",
            "7\n",
            "8\n",
            "9\n"
          ]
        }
      ]
    },
    {
      "cell_type": "code",
      "source": [
        "#\tUse a while loop to find the sum of numbers from 1 to 10.\n",
        "n = int(input(\"Enter a number: \"))\n",
        "i = 1\n",
        "sum = 0 #Initilization of sum is zero\n",
        "while (i <= n):\n",
        "    sum = sum + i\n",
        "    i = i + 1\n",
        "print(\"The sum is: \", sum)"
      ],
      "metadata": {
        "colab": {
          "base_uri": "https://localhost:8080/"
        },
        "id": "78SMT8R72bYY",
        "outputId": "da644606-e37a-4f70-87c5-7b5370408f3d"
      },
      "execution_count": null,
      "outputs": [
        {
          "output_type": "stream",
          "name": "stdout",
          "text": [
            "Enter a number: 10\n",
            "The sum is:  55\n"
          ]
        }
      ]
    },
    {
      "cell_type": "code",
      "source": [
        "#4 \tData Structures - List and Dictionary (3 Points)\n",
        "#Create a list of five fruit names.\n",
        "fruits=[\"apple\", \"banana\", \"guava\", \"grapes\", \"papaya\"]\n",
        "print(fruits)"
      ],
      "metadata": {
        "colab": {
          "base_uri": "https://localhost:8080/"
        },
        "id": "WapA7e8b3lNA",
        "outputId": "c041c9ad-6488-4610-c7cd-255d14d3de86"
      },
      "execution_count": null,
      "outputs": [
        {
          "output_type": "stream",
          "name": "stdout",
          "text": [
            "['apple', 'banana', 'guava', 'grapes', 'papaya']\n"
          ]
        }
      ]
    },
    {
      "cell_type": "code",
      "source": [
        "#\tCreate a dictionary mapping three countries to their capitals\n",
        "countries = {\"India\": \"Delhi\", \"Australia\": \"Canberra\", \"China\" : \"Beijing\"}\n",
        "print(countries)"
      ],
      "metadata": {
        "colab": {
          "base_uri": "https://localhost:8080/"
        },
        "id": "KyCdKQ754RQV",
        "outputId": "e4309d72-659f-4ae9-a10b-cefbc0e09979"
      },
      "execution_count": null,
      "outputs": [
        {
          "output_type": "stream",
          "name": "stdout",
          "text": [
            "{'India': 'Delhi', 'Australia': 'Sydney', 'China': 'Beijing'}\n"
          ]
        }
      ]
    },
    {
      "cell_type": "code",
      "source": [
        "#5.\tString Manipulation (3 Points)\n",
        "#\tGiven a string, print it in reverse.\n",
        "my_string=\"samara simha reddy\"\n",
        "reversed_string = my_string[::-1]\n",
        "print(reversed_string)"
      ],
      "metadata": {
        "colab": {
          "base_uri": "https://localhost:8080/"
        },
        "id": "S4wqAmam5Ovi",
        "outputId": "85a025f2-c5f0-49c7-9404-88e0fbcbae8c"
      },
      "execution_count": null,
      "outputs": [
        {
          "output_type": "stream",
          "name": "stdout",
          "text": [
            "ydder ahmis aramas\n"
          ]
        }
      ]
    },
    {
      "cell_type": "code",
      "source": [
        "#Section 2: Functions and Modules (15 Points)\n",
        "\n",
        "#1.\tDefining and Calling Functions (3 Points)\n",
        "#\tWrite a function that takes a number and returns its square.\n",
        "def calculate_square(number):\n",
        "    square = number ** 2\n",
        "    return square\n",
        "number = int(input(\"enter a number:\"))\n",
        "result = calculate_square(number)\n",
        "print(f\"The square of {number} is: {result}\")\n",
        "\n"
      ],
      "metadata": {
        "colab": {
          "base_uri": "https://localhost:8080/"
        },
        "id": "E7R0J6PW6FMR",
        "outputId": "a0be238c-8a64-4fde-9d4a-f63d8ffdc245"
      },
      "execution_count": null,
      "outputs": [
        {
          "output_type": "stream",
          "name": "stdout",
          "text": [
            "enter a number:7\n",
            "The square of 7 is: 49\n"
          ]
        }
      ]
    },
    {
      "cell_type": "code",
      "source": [
        "#2.\tFunction with Multiple Parameters (3 Points)\n",
        "#\tWrite a function that takes two numbers and returns their product.\n",
        "def calculate_product(number1, number2):\n",
        "    product = number1 * number2\n",
        "    return product\n",
        "number1 =int(input(\"enter a number1:\"))\n",
        "number2 =int(input(\"enter a number2:\"))\n",
        "result = calculate_product(number1, number2)\n",
        "print(f\"The product of {number1} and {number2} is: {result}\")\n"
      ],
      "metadata": {
        "colab": {
          "base_uri": "https://localhost:8080/"
        },
        "id": "eUhf7yT47mkr",
        "outputId": "6cab6ece-5cc7-4532-d135-74a98e5e29c8"
      },
      "execution_count": null,
      "outputs": [
        {
          "output_type": "stream",
          "name": "stdout",
          "text": [
            "enter a number1:9\n",
            "enter a number2:6\n",
            "The product of 9 and 6 is: 54\n"
          ]
        }
      ]
    },
    {
      "cell_type": "code",
      "source": [
        "#3.\tRecursive Function (3 Points)\n",
        "#\tWrite a recursive function to calculate the factorial of a number.\n",
        "def calculate_factorial(n):\n",
        "    if n == 0:\n",
        "        return 1\n",
        "    else:\n",
        "        return n * calculate_factorial(n - 1)\n",
        "number = int(input(\"enter a number\"))\n",
        "result = calculate_factorial(number)\n",
        "print(f\"The factorial of {number} is: {result}\")\n",
        "\n",
        "\n"
      ],
      "metadata": {
        "colab": {
          "base_uri": "https://localhost:8080/"
        },
        "id": "a2DV7uXP8aq8",
        "outputId": "41a12f2f-62a5-47c5-85ef-0093074d120f"
      },
      "execution_count": null,
      "outputs": [
        {
          "output_type": "stream",
          "name": "stdout",
          "text": [
            "enter a number3\n",
            "The factorial of 3 is: 6\n"
          ]
        }
      ]
    },
    {
      "cell_type": "code",
      "source": [
        "#4.\tLambda Functions (3 Points)\n",
        "#\tWrite a lambda function to find the maximum of two numbers.\n",
        "find_max = lambda x, y: x if x > y else y\n",
        "num1 = int(input(\"enter a number 1: \"))\n",
        "num2 = int(input(\"enter a number 2: \"))\n",
        "maximum = find_max(num1, num2)\n",
        "print(f\"The maximum of {num1} and {num2} is: {maximum}\")\n",
        "\n"
      ],
      "metadata": {
        "colab": {
          "base_uri": "https://localhost:8080/"
        },
        "id": "905QoGHX9Y3o",
        "outputId": "be261713-9deb-4baa-fc6b-f3c86089b043"
      },
      "execution_count": null,
      "outputs": [
        {
          "output_type": "stream",
          "name": "stdout",
          "text": [
            "enter a number 1: 8\n",
            "enter a number 2: 62\n",
            "The maximum of 8 and 62 is: 62\n"
          ]
        }
      ]
    },
    {
      "cell_type": "code",
      "source": [
        "#5 \tImporting and Using Modules (3 Points)\n",
        "#Import the math module and use it to calculate the square root of a number.\n",
        "import math\n",
        "number=int(input(\"enter a value:\"))\n",
        "square_root=math.sqrt(number)\n",
        "print(f\"the root of given {number} is : {square_root}\")\n"
      ],
      "metadata": {
        "colab": {
          "base_uri": "https://localhost:8080/"
        },
        "id": "TUo1bre-9_0d",
        "outputId": "4f8a9fbd-ac5f-41ce-d780-1bf9243022df"
      },
      "execution_count": null,
      "outputs": [
        {
          "output_type": "stream",
          "name": "stdout",
          "text": [
            "enter a value:64\n",
            "the root of given 64 is : 8.0\n"
          ]
        }
      ]
    },
    {
      "cell_type": "code",
      "source": [
        "#Section 3: Object-Oriented Programming (15 Points)\n",
        "#1.\tClass and Object Creation (3 Points)\n",
        "#\tDefine a Car class with properties like make, model, and year. Create an object of this class.\n",
        "class car:\n",
        "    def __init__(self, make,model,year):\n",
        "        self.make = make\n",
        "        self.model = model\n",
        "        self.year=year\n",
        "\n",
        "    def display_info(self):\n",
        "        print(f\"make: {self.make}, model: {self.model},year:{self.year}\")\n",
        "\n",
        "my_car = car(\"suzuki\",\"baleno\",2018)\n",
        "my_car.display_info()\n",
        "\n"
      ],
      "metadata": {
        "id": "TGOaPSwF_O6_",
        "colab": {
          "base_uri": "https://localhost:8080/"
        },
        "outputId": "c6548cfc-66c1-4a87-d20f-18e3c26b5243"
      },
      "execution_count": null,
      "outputs": [
        {
          "output_type": "stream",
          "name": "stdout",
          "text": [
            "make: suzuki, model: baleno,year:2018\n"
          ]
        }
      ]
    },
    {
      "cell_type": "code",
      "source": [
        "#2.\tMethod Definition and Inheritance (3 Points)\n",
        "#\tAdd a method to the Car class that displays information about the car. Create a ElectricCar class that inherits from Car and has an additional battery_size property.\n",
        "class Car:\n",
        "    def __init__(self, make, model, year):\n",
        "        self.make = make\n",
        "        self.model = model\n",
        "        self.year = year\n",
        "\n",
        "    def display_info(self):\n",
        "        print(f\"{self.make} {self.model} {self.year}\")\n",
        "\n",
        "class ElectricCar(Car):\n",
        "    def __init__(self, make, model, year, battery_size):\n",
        "       super().__init__(make, model, year)\n",
        "       self.battery_size = battery_size\n",
        "\n",
        "    def display_info(self):\n",
        "\n",
        "        super().display_info()\n",
        "        print(f\"Battery Size: {self.battery_size} kWh\")\n",
        "\n",
        "car1 = Car(\"Suzuki\", \"Baleno\", 2018)\n",
        "car1.display_info()\n",
        "electric_car1 = ElectricCar(\"Tesla\", \"Model S\", 2022, 100)\n",
        "electric_car1.display_info()\n"
      ],
      "metadata": {
        "id": "S1QhHP6yBax4",
        "colab": {
          "base_uri": "https://localhost:8080/"
        },
        "outputId": "5fea32a1-8485-42ae-a46e-3d06078c8e9a"
      },
      "execution_count": null,
      "outputs": [
        {
          "output_type": "stream",
          "name": "stdout",
          "text": [
            "Suzuki Baleno 2018\n",
            "Tesla Model S 2022\n",
            "Battery Size: 100 kWh\n"
          ]
        }
      ]
    },
    {
      "cell_type": "code",
      "source": [
        "#\tExplain the difference between class variables and instance variables with examples.\n",
        "#Class Variable\n",
        "# Class variables are shared among all instances of a class.\n",
        "# They are defined outside of any method in the class.\n",
        "# Class variables are typically used to store data that is shared by all instances of the class.\n",
        "class MyClass:\n",
        "    class_variable = \"This is class variable\"\n",
        "\n",
        "instance = MyClass()\n",
        "print(instance.class_variable)\n",
        "MyClass.class_variable = \"Modified class variable\" #modified class variable\n",
        "print(instance.class_variable)\n",
        "\n"
      ],
      "metadata": {
        "colab": {
          "base_uri": "https://localhost:8080/"
        },
        "id": "8eY_JQuXDxmI",
        "outputId": "5093e4ca-b577-4f7a-f225-96fec8719c3e"
      },
      "execution_count": null,
      "outputs": [
        {
          "output_type": "stream",
          "name": "stdout",
          "text": [
            "This is class variable\n",
            "Modified class variable\n"
          ]
        }
      ]
    },
    {
      "cell_type": "code",
      "source": [
        "#Instance Variable\n",
        "#Instance variables are specific to each instance of a class.\n",
        "#They are defined within methods, typically within the __init__ method, using the self keyword.\n",
        "class MyClass:\n",
        "    def __init__(self, instance_variable):\n",
        "        self.instance_variable = instance_variable\n",
        "instance1 = MyClass(\"I am instance variable\")\n",
        "print(instance1.instance_variable)\n",
        "\n"
      ],
      "metadata": {
        "colab": {
          "base_uri": "https://localhost:8080/"
        },
        "id": "kOXyVl6xEDfC",
        "outputId": "c4fe806a-f8fa-4fa0-c899-2a1a4ebe8464"
      },
      "execution_count": null,
      "outputs": [
        {
          "output_type": "stream",
          "name": "stdout",
          "text": [
            "I am instance variable\n"
          ]
        }
      ]
    },
    {
      "cell_type": "code",
      "source": [
        "#5.\tConstructor and Destructor (3 Points)\n",
        "#\tImplement a constructor and a destructor in the Car class.\n",
        "class Car:\n",
        "    def __init__(self, make, model, year):\n",
        "        self.make = make\n",
        "        self.model = model\n",
        "        self.year = year\n",
        "        print(f\"A new car instance has been created: {self.make} {self.model} {self.year}\")\n",
        "\n",
        "    def display_info(self):\n",
        "        print(f\"{self.make} {self.model} {self.year}\")\n",
        "\n",
        "    def __del__(self):\n",
        "        print(f\"The car instance is being destroyed: {self.make} {self.model} {self.year}\")\n",
        "car1 = Car(\"Suzuki\", \"Baleno\", 2018)\n",
        "car1.display_info()\n",
        "\n",
        "# Simulating the destruction of the car instance\n",
        "del car1\n",
        "\n"
      ],
      "metadata": {
        "colab": {
          "base_uri": "https://localhost:8080/"
        },
        "id": "2ZRoNiYgFUdb",
        "outputId": "e58f7cd0-3b0f-41cf-f3fd-b237024b43c8"
      },
      "execution_count": null,
      "outputs": [
        {
          "output_type": "stream",
          "name": "stdout",
          "text": [
            "A new car instance has been created: Suzuki Baleno 2018\n",
            "Suzuki Baleno 2018\n",
            "The car instance is being destroyed: Suzuki Baleno 2018\n"
          ]
        }
      ]
    },
    {
      "cell_type": "code",
      "source": [
        "#Section 4: \"\"\"File Handling and Application (30 Points)\n",
        "#1.\tReading from a File (6 Points)\n",
        "#\tWrite a program to read a text file line by line and print each line.\n",
        "# Open the file in read mode.\n",
        "file_path = 'output.txt'  # Replace 'your_text_file.txt' with the actual file path\n",
        "with open(file_path, 'r') as file:\n",
        "    # Read each line and print it\n",
        "    for line in file:\n",
        "        print(line.strip())  # Using strip() to remove leading and trailing whitespaces\n",
        "\n",
        "\n"
      ],
      "metadata": {
        "colab": {
          "base_uri": "https://localhost:8080/"
        },
        "id": "zqI16TSFkL83",
        "outputId": "5cff4a4e-ec84-43eb-c38c-478c1fa04e6f"
      },
      "execution_count": 11,
      "outputs": [
        {
          "output_type": "stream",
          "name": "stdout",
          "text": [
            "Python File Handling is powerful!\n"
          ]
        }
      ]
    },
    {
      "cell_type": "code",
      "source": [
        "#2.\tWriting to a File (6 Points)\n",
        "#\tWrite a program to take user input and write it to a file.\n",
        "file_name = \"output.txt\" #new file name declared\n",
        "text = \"Python is powerful language!\" #writing the given text\n",
        "\n",
        "try:\n",
        "    with open(file_name, 'w') as file:#opening the file for writing\n",
        "        file.write(text)\n",
        "    print(f\"Python is powerful language!\")\n",
        "except Exception as error:\n",
        "    print(f\"it is an error:\")\n",
        "\n"
      ],
      "metadata": {
        "colab": {
          "base_uri": "https://localhost:8080/"
        },
        "id": "KjU6Lk1xkrdO",
        "outputId": "9dfd4b57-6f06-45b7-8bdf-faa86e0d7492"
      },
      "execution_count": 16,
      "outputs": [
        {
          "output_type": "stream",
          "name": "stdout",
          "text": [
            "Python file handling is powerful!\n"
          ]
        }
      ]
    },
    {
      "cell_type": "code",
      "source": [
        "#3.\tFile Parsing and Object Creation (6 Points)\n",
        "#\tRead a file containing lines in the format Name,Age,Job. For each line, create an object of a Person class with these attributes.\n",
        "file_name = \"output.txt\" #new file name declared\n",
        "text = \"Samara 20 Software Intern!\" #writing the given text\n",
        "\n",
        "try:\n",
        "    with open(file_name, 'w') as file:#opening the file for writing\n",
        "        file.write(text)\n",
        "    print(f\"Samara 20 Software Intern!\")\n",
        "except Exception as error:\n",
        "    print(f\"it is an error:\")\n",
        "class Person:\n",
        "    def __init__(self, name, age, job):\n",
        "        self.name = name\n",
        "        self.age = age\n",
        "        self.job = job\n",
        "\n",
        "    def __str__(self):\n",
        "        return f\"Name: {self.name}, Age: {self.age}, Job: {self.job}\"\n",
        "\n",
        "# Function to read the file and create Person objects\n",
        "def read_file_and_create_objects(file_path):\n",
        "    people_list = []\n",
        "\n",
        "    try:\n",
        "        with open(file_path, 'r') as file:\n",
        "            for line in file:\n",
        "                # Split the line into Name, Age, and Job\n",
        "                name, age, job = line.strip().split(',')\n",
        "                # Create a Person object and append it to the list\n",
        "                person = Person(name, int(age), job)\n",
        "                people_list.append(person)\n",
        "    except FileNotFoundError:\n",
        "        print(f\"File '{file_path}' not found.\")\n",
        "    except Exception as e:\n",
        "        print(f\"An error occurred: {e}\")\n",
        "\n",
        "    return people_list\n",
        "\n",
        "file_path = 'output.txt'\n",
        "people_objects = read_file_and_create_objects(file_path)\n",
        "\n",
        "# Display the information of each Person object\n",
        "for person in people_objects:\n",
        "    print(person)\n",
        "\n"
      ],
      "metadata": {
        "colab": {
          "base_uri": "https://localhost:8080/"
        },
        "id": "Tu-tYuUkk5yZ",
        "outputId": "64334d9a-ba4f-411c-c89d-fb9a262aa575"
      },
      "execution_count": 23,
      "outputs": [
        {
          "output_type": "stream",
          "name": "stdout",
          "text": [
            "Samara 20 Software Intern!\n",
            "An error occurred: not enough values to unpack (expected 3, got 1)\n"
          ]
        }
      ]
    },
    {
      "cell_type": "code",
      "source": [
        "#4.\tObject Serialization (6 Points)\n",
        "#\tDemonstrate saving and loading objects to and from a file using pickle\n",
        "import pickle\n",
        "\n",
        "class Person:\n",
        "    def __init__(self, name, age, job):\n",
        "        self.name = name\n",
        "        self.age = age\n",
        "        self.job = job\n",
        "\n",
        "    def __str__(self):\n",
        "        return f\"Name: {self.name}, Age: {self.age}, Job: {self.job}\"\n",
        "\n",
        "# Function to save a list of objects to a file using pickle\n",
        "def save_objects_to_file(file_path, objects_list):\n",
        "    try:\n",
        "        with open(file_path, 'wb') as file:\n",
        "            pickle.dump(objects_list, file)\n",
        "        print(f\"Objects saved to file: {file_path}\")\n",
        "    except Exception as e:\n",
        "        print(f\"An error occurred while saving objects: {e}\")\n",
        "\n",
        "# Function to load objects from a file using pickle\n",
        "def load_objects_from_file(file_path):\n",
        "    objects_list = []\n",
        "    try:\n",
        "        with open(file_path, 'rb') as file:\n",
        "            objects_list = pickle.load(file)\n",
        "        print(f\"Objects loaded from file: {file_path}\")\n",
        "    except FileNotFoundError:\n",
        "        print(f\"File '{file_path}' not found.\")\n",
        "    except Exception as e:\n",
        "        print(f\"An error occurred while loading objects: {e}\")\n",
        "\n",
        "    return objects_list\n",
        "\n",
        "# Create a list of Person objects\n",
        "people_objects = [\n",
        "    Person(\"Ravi\", 26, \"Plumber\"),\n",
        "    Person(\"ram\", 25, \"Electrician\"),\n",
        "    Person(\"Samara\", 23, \"Teacher\")\n",
        "]\n",
        "\n",
        "\n",
        "save_objects_to_file('people_data.pkl', people_objects) # Save the list of objects to a file\n",
        "\n",
        "\n",
        "loaded_objects = load_objects_from_file('people_data.pkl') #loading objects from file\n",
        "\n",
        "\n",
        "for person in loaded_objects:\n",
        "    print(person)\n",
        "\n"
      ],
      "metadata": {
        "colab": {
          "base_uri": "https://localhost:8080/"
        },
        "id": "_Cj-vZ-Gmx2S",
        "outputId": "448f3fcb-1024-4c49-9857-1a6bb60b3a15"
      },
      "execution_count": 24,
      "outputs": [
        {
          "output_type": "stream",
          "name": "stdout",
          "text": [
            "Objects saved to file: people_data.pkl\n",
            "Objects loaded from file: people_data.pkl\n",
            "Name: Ravi, Age: 26, Job: Plumber\n",
            "Name: ram, Age: 25, Job: Electrician\n",
            "Name: Samara, Age: 23, Job: Teacher\n"
          ]
        }
      ]
    },
    {
      "cell_type": "code",
      "source": [
        "#5.\tComprehensive Application (6 Points)\n",
        "#\tCreate a program that reads a file containing lines in the format ProductName,Price,Quantity. Parse each line to create objects of a Product class. Implement functionality in the class to update product details. Finally, write the updated details back to a file in the same format.\n",
        "\n",
        "import os\n",
        "\n",
        "class Product:\n",
        "    def __init__(self, name, price, quantity):\n",
        "        self.name = name\n",
        "        self.price = price\n",
        "        self.quantity = quantity\n",
        "\n",
        "    def update_details(self, price=None, quantity=None):\n",
        "        if price is not None:\n",
        "            self.price = price\n",
        "        if quantity is not None:\n",
        "            self.quantity = quantity\n",
        "\n",
        "    def __str__(self):\n",
        "        return f\"{self.name},{self.price},{self.quantity}\"\n",
        "\n",
        "#  create Product objects, and update details\n",
        "def process_product_file(file_path):\n",
        "    products_list = []\n",
        "\n",
        "    try:\n",
        "        with open(file_path, 'r') as file:\n",
        "            for line in file:\n",
        "                name, price, quantity = line.strip().split(',')\n",
        "                product = Product(name, float(price), int(quantity))\n",
        "                products_list.append(product)\n",
        "\n",
        "\n",
        "        for product in products_list: #increasing the product price and quantity by 22%\n",
        "            product.update_details(price=product.price * 2.2, quantity=int(product.quantity * 2.2))\n",
        "\n",
        "        # Write updated details back to the file\n",
        "        write_updated_details(file_path, products_list)\n",
        "\n",
        "    except FileNotFoundError:\n",
        "        print(f\"File '{file_path}' not found.\")\n",
        "    except Exception as e:\n",
        "        print(f\"An error occurred: {e}\")\n",
        "\n",
        "# Function to write updated details back to the file\n",
        "def write_updated_details(file_path, products_list):\n",
        "    try:\n",
        "        with open(file_path, 'w') as file:\n",
        "            for product in products_list:\n",
        "                file.write(str(product) + '\\n')\n",
        "        print(f\"Updated details written to file: {file_path}\")\n",
        "    except Exception as e:\n",
        "        print(f\"An error occurred while writing updated details: {e}\")\n",
        "\n",
        "# Create a file named 'your_products_file.txt' with sample data\n",
        "with open('your_products_file.txt', 'w') as initial_file:\n",
        "    initial_file.write(\"Mobile Phone,25000.5,100\\n\")\n",
        "    initial_file.write(\"Laptop,50000.75,50\\n\")\n",
        "    initial_file.write(\" Television,75000.20,75\\n\")\n",
        "\n",
        "# Replace 'your_products_file.txt' with the actual file path\n",
        "file_path = 'your_products_file.txt'\n",
        "\n",
        "# Process the product file, update details, and write back to the file\n",
        "process_product_file(file_path)\n"
      ],
      "metadata": {
        "colab": {
          "base_uri": "https://localhost:8080/"
        },
        "id": "VTOJwtJDqLmy",
        "outputId": "96bf0261-ad71-4b50-c06b-4fc0d0b2be22"
      },
      "execution_count": 33,
      "outputs": [
        {
          "output_type": "stream",
          "name": "stdout",
          "text": [
            "Updated details written to file: your_products_file.txt\n"
          ]
        }
      ]
    },
    {
      "cell_type": "code",
      "source": [
        "file = open('your_products_file.txt')"
      ],
      "metadata": {
        "id": "w0Qtwu_uqbJZ"
      },
      "execution_count": 31,
      "outputs": []
    },
    {
      "cell_type": "code",
      "source": [
        "with open('your_products_file.txt', 'r') as file:\n",
        "    content = file.read()\n",
        "    print(content)\n"
      ],
      "metadata": {
        "colab": {
          "base_uri": "https://localhost:8080/"
        },
        "id": "UInCfCdmqtui",
        "outputId": "4bf50b3a-cee1-47f9-886e-1217ac618f2b"
      },
      "execution_count": 34,
      "outputs": [
        {
          "output_type": "stream",
          "name": "stdout",
          "text": [
            "Mobile Phone,55001.100000000006,220\n",
            "Laptop,110001.65000000001,110\n",
            "Television,165000.44,165\n",
            "\n"
          ]
        }
      ]
    }
  ]
}